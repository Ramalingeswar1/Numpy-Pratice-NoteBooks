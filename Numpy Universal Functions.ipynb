{
 "cells": [
  {
   "cell_type": "markdown",
   "id": "6190e6b1",
   "metadata": {},
   "source": [
    "# unfunc Introduction"
   ]
  },
  {
   "cell_type": "code",
   "execution_count": null,
   "id": "19729c1d",
   "metadata": {},
   "outputs": [],
   "source": [
    "#ufuncs stands for universal functions.\n",
    "#ufuncs are numpy functions that operate on ndarray object."
   ]
  },
  {
   "cell_type": "code",
   "execution_count": null,
   "id": "27997420",
   "metadata": {},
   "outputs": [],
   "source": [
    "#ufuncs are used to implement vectorization in numpy which is faster than iterating over elements.\n",
    "#For computation ufuncs provide methods like accumulate,reduce etc... and broadcasting also.\n",
    "#ufuncs also take additional arguments like:\n",
    "\n",
    "#1)where boolean array or condition defining where the operations should take place.\n",
    "\n",
    "#2)dtype defining the return type of elements.\n",
    "\n",
    "#3)out output array where the return value should be copied."
   ]
  },
  {
   "cell_type": "code",
   "execution_count": null,
   "id": "a81fecb6",
   "metadata": {},
   "outputs": [],
   "source": [
    "#Vectorization\n",
    "#--------------\n",
    "#converting iterative statements into vector based operations is called vectorization."
   ]
  },
  {
   "cell_type": "code",
   "execution_count": 1,
   "id": "a3b116d5",
   "metadata": {},
   "outputs": [
    {
     "name": "stdout",
     "output_type": "stream",
     "text": [
      "[5, 7, 9, 11]\n"
     ]
    }
   ],
   "source": [
    "#Add the elements of Two lists\n",
    "x=[1,2,3,4]\n",
    "y=[4,5,6,7]\n",
    "z=[]\n",
    "for i,j in zip(x,y):\n",
    "    z.append(i+j)\n",
    "print(z)"
   ]
  },
  {
   "cell_type": "code",
   "execution_count": 3,
   "id": "722b915c",
   "metadata": {},
   "outputs": [],
   "source": [
    "#ufunc add() to return sum of two lists vertical calculation\n",
    "import numpy as np\n",
    "x=[1,2,3,4]\n",
    "y=[4,5,6,7]\n",
    "z=np.add(x,y)"
   ]
  },
  {
   "cell_type": "markdown",
   "id": "dbd9e3c9",
   "metadata": {},
   "source": [
    "# ufunc create function"
   ]
  },
  {
   "cell_type": "code",
   "execution_count": 6,
   "id": "67c7fa40",
   "metadata": {},
   "outputs": [
    {
     "name": "stdout",
     "output_type": "stream",
     "text": [
      "[6 8 10 12]\n"
     ]
    }
   ],
   "source": [
    "#To create ufunc---------->frompyfunc() method\n",
    "def fun(x,y):\n",
    "    return x+y\n",
    "#frompyfunc method takes 3 arguments--->1)normal function   2)no of input parameters   3)no of output parameters\n",
    "\n",
    "add=np.frompyfunc(fun,2,1)\n",
    "print(add([1,2,3,4],[5,6,7,8]))"
   ]
  },
  {
   "cell_type": "code",
   "execution_count": 7,
   "id": "f2eba960",
   "metadata": {},
   "outputs": [
    {
     "name": "stdout",
     "output_type": "stream",
     "text": [
      "<class 'numpy.ufunc'>\n"
     ]
    }
   ],
   "source": [
    "print(type(add))"
   ]
  },
  {
   "cell_type": "code",
   "execution_count": 8,
   "id": "76101408",
   "metadata": {},
   "outputs": [
    {
     "name": "stdout",
     "output_type": "stream",
     "text": [
      "ufunc\n"
     ]
    }
   ],
   "source": [
    "if type(np.add==np.ufunc):\n",
    "    print(\"ufunc\")\n",
    "else:\n",
    "    print(\"not a ufunc\")"
   ]
  },
  {
   "cell_type": "markdown",
   "id": "c017f28a",
   "metadata": {},
   "source": [
    "# ufunc simple arithmetic function"
   ]
  },
  {
   "cell_type": "code",
   "execution_count": null,
   "id": "51f54bc8",
   "metadata": {},
   "outputs": [],
   "source": [
    "#+,-,*,/,%,**\n",
    "\n",
    "#functions available are add(),subtract(),multiply(),divide(),mod(),remainder(),power(),divmode()-->for getting both quotient and \n",
    "#mod\n",
    "\n",
    "#Absolute Functions--->absolute(),abs()"
   ]
  },
  {
   "cell_type": "code",
   "execution_count": null,
   "id": "aea19c9f",
   "metadata": {},
   "outputs": [],
   "source": [
    "#scalar means 0-d\n",
    "\n",
    "#vector means 1-d\n",
    "\n",
    "#matrix means 2-d"
   ]
  },
  {
   "cell_type": "code",
   "execution_count": null,
   "id": "147962e8",
   "metadata": {},
   "outputs": [],
   "source": [
    "#Scalar: A scalar is a single numerical value, without any direction or dimension. It is considered a zero-dimensional object\n",
    "#because it doesn't have length, width, or height. Examples include individual numbers like 5, -2.7, or π.\n",
    "#Vector: A vector is an ordered collection of scalar values. It represents a quantity with both magnitude and direction and is \n",
    "#typically arranged in a one-dimensional array. Vectors are one-dimensional because they can be described by a single dimension \n",
    "#(e.g., a list of numbers). Examples include [3, 7, -2], [0, 1, 0], or [π, 2.5, 1.1].\n",
    "#Matrix: A matrix is a two-dimensional array of scalar values, arranged in rows and columns. It represents a collection of \n",
    "#vectors or a transformation of space. Each element in a matrix is identified by its row and column indices. Examples include [[1, 2], [3, 4]], [[-1, 0, 1], [2, -2, 3]], or [[π, 0], [0, 2.5]]."
   ]
  },
  {
   "cell_type": "code",
   "execution_count": 10,
   "id": "7ba3204e",
   "metadata": {},
   "outputs": [
    {
     "name": "stdout",
     "output_type": "stream",
     "text": [
      "[ 6  8 10 12]\n"
     ]
    }
   ],
   "source": [
    "v1=[1,2,3,4]\n",
    "v2=[5,6,7,8]"
   ]
  },
  {
   "cell_type": "code",
   "execution_count": 13,
   "id": "26fc299b",
   "metadata": {},
   "outputs": [],
   "source": [
    "addition=np.add(v1,v2)\n",
    "\n",
    "subtraction=np.subtract(v1,v2)\n",
    "\n",
    "multiplication=np.multiply(v1,v2)\n",
    "\n",
    "divison=np.divide(v1,v2)\n",
    "\n",
    "modulus=np.mod(v1,v2)\n",
    "\n",
    "remainder=np.remainder(v1,v2)\n",
    "\n",
    "rem=np.mod(v1,v2)\n",
    "\n",
    "power=np.power(v1,v2)\n",
    "\n",
    "Quotient_and_Mod=np.divmod(v1,v2)\n",
    "\n",
    "absolute=np.abs(v1)\n",
    "\n",
    "abs1=np.absolute(v2)\n"
   ]
  },
  {
   "cell_type": "code",
   "execution_count": 15,
   "id": "ac962e19",
   "metadata": {},
   "outputs": [
    {
     "name": "stdout",
     "output_type": "stream",
     "text": [
      "[ 6  8 10 12] [-4 -4 -4 -4] [ 5 12 21 32] [0.2        0.33333333 0.42857143 0.5       ] [1 2 3 4] [1 2 3 4] [1 2 3 4] [    1    64  2187 65536] (array([0, 0, 0, 0]), array([1, 2, 3, 4])) [1 2 3 4] [5 6 7 8]\n"
     ]
    }
   ],
   "source": [
    "print(addition,subtraction,multiplication,divison,modulus,remainder,rem,power,Quotient_and_Mod,absolute,abs1)"
   ]
  },
  {
   "cell_type": "markdown",
   "id": "ffff506b",
   "metadata": {},
   "source": [
    "# ufunc Rounding Decimals"
   ]
  },
  {
   "cell_type": "code",
   "execution_count": null,
   "id": "46b4e263",
   "metadata": {},
   "outputs": [],
   "source": [
    "#There are 5 ways to round off decimals in numpy"
   ]
  },
  {
   "cell_type": "code",
   "execution_count": null,
   "id": "a6f9477a",
   "metadata": {},
   "outputs": [],
   "source": [
    "#1)truncation\n",
    "#2)fix\n",
    "#3)rounding\n",
    "#4)ceil\n",
    "#5)floor"
   ]
  },
  {
   "cell_type": "code",
   "execution_count": 16,
   "id": "c6c42bc4",
   "metadata": {},
   "outputs": [
    {
     "name": "stdout",
     "output_type": "stream",
     "text": [
      "[-3.  3.]\n"
     ]
    }
   ],
   "source": [
    "#truncate and fix removes the decimal values and return float values with .\n",
    "\n",
    "arr=np.fix([-3.654,3.4543])\n",
    "print(arr)"
   ]
  },
  {
   "cell_type": "code",
   "execution_count": 18,
   "id": "f2facf38",
   "metadata": {},
   "outputs": [
    {
     "name": "stdout",
     "output_type": "stream",
     "text": [
      "[-3.  3.]\n"
     ]
    }
   ],
   "source": [
    "#trunc\n",
    "arr=np.trunc([-3.654,3.4543])\n",
    "print(arr)"
   ]
  },
  {
   "cell_type": "code",
   "execution_count": 26,
   "id": "f5caad20",
   "metadata": {},
   "outputs": [
    {
     "name": "stdout",
     "output_type": "stream",
     "text": [
      "3.1\n"
     ]
    }
   ],
   "source": [
    "#Rounding--------->around() method--->if .14 then will not increment by 1 if >=5 then increments by 1\n",
    "arr=np.around(3.14,1)\n",
    "print(arr)"
   ]
  },
  {
   "cell_type": "code",
   "execution_count": 27,
   "id": "4861d184",
   "metadata": {},
   "outputs": [
    {
     "name": "stdout",
     "output_type": "stream",
     "text": [
      "[1. 2.]\n"
     ]
    }
   ],
   "source": [
    "#floor()\n",
    "#the floor function rounds off to lowest integer but returns float value with decimal point\n",
    "\n",
    "arr=np.floor([1.34,2.3])\n",
    "print(arr)"
   ]
  },
  {
   "cell_type": "code",
   "execution_count": 28,
   "id": "709eb0d9",
   "metadata": {},
   "outputs": [
    {
     "name": "stdout",
     "output_type": "stream",
     "text": [
      "[2. 3.]\n"
     ]
    }
   ],
   "source": [
    "#ceil()\n",
    "#theceil function rounds off to highest integer but returns float value with decimal point\n",
    "\n",
    "arr=np.ceil([1.34,2.3])\n",
    "print(arr)"
   ]
  },
  {
   "cell_type": "markdown",
   "id": "7aedc1e6",
   "metadata": {},
   "source": [
    "# NumPy Logs"
   ]
  },
  {
   "cell_type": "code",
   "execution_count": null,
   "id": "5f5f4eee",
   "metadata": {},
   "outputs": [],
   "source": [
    "#NumPy provides functions to perform log at base 2,e,10"
   ]
  },
  {
   "cell_type": "code",
   "execution_count": 29,
   "id": "ed6eca3c",
   "metadata": {},
   "outputs": [
    {
     "name": "stdout",
     "output_type": "stream",
     "text": [
      "[0.         0.69314718 1.09861229 1.38629436 1.60943791]\n"
     ]
    }
   ],
   "source": [
    "#log at Base2\n",
    "#Use the log2() function to perform log at the base 2.\n",
    "arr=np.array([1,2,3,4,5])\n",
    "print(np.log(arr))"
   ]
  },
  {
   "cell_type": "code",
   "execution_count": 30,
   "id": "846e0ded",
   "metadata": {},
   "outputs": [
    {
     "name": "stdout",
     "output_type": "stream",
     "text": [
      "[0.         0.30103    0.47712125 0.60205999 0.69897   ]\n"
     ]
    }
   ],
   "source": [
    "#Log at Base 10\n",
    "#Use the log10() function to perform log at the base 10.\n",
    "arr=np.array([1,2,3,4,5])\n",
    "print(np.log10(arr))"
   ]
  },
  {
   "cell_type": "code",
   "execution_count": 32,
   "id": "3940afe2",
   "metadata": {},
   "outputs": [
    {
     "name": "stdout",
     "output_type": "stream",
     "text": [
      "[0.         0.69314718 1.09861229 1.38629436 1.60943791 1.79175947\n",
      " 1.94591015 2.07944154 2.19722458 2.30258509 2.39789527 2.48490665\n",
      " 2.56494936 2.63905733 2.7080502  2.77258872 2.83321334 2.89037176\n",
      " 2.94443898 2.99573227 3.04452244 3.09104245 3.13549422 3.17805383\n",
      " 3.21887582 3.25809654 3.29583687 3.33220451 3.36729583 3.40119738\n",
      " 3.4339872  3.4657359  3.49650756 3.52636052 3.55534806 3.58351894\n",
      " 3.61091791 3.63758616 3.66356165 3.68887945 3.71357207 3.73766962\n",
      " 3.76120012 3.78418963 3.80666249 3.8286414  3.8501476  3.87120101\n",
      " 3.8918203  3.91202301 3.93182563 3.95124372 3.97029191 3.98898405\n",
      " 4.00733319 4.02535169 4.04305127 4.06044301 4.07753744 4.09434456\n",
      " 4.11087386 4.12713439 4.14313473 4.15888308 4.17438727 4.18965474\n",
      " 4.20469262 4.21950771 4.2341065  4.24849524 4.26267988 4.27666612\n",
      " 4.29045944 4.30406509 4.31748811 4.33073334 4.34380542 4.35670883\n",
      " 4.36944785 4.38202663 4.39444915 4.40671925 4.41884061 4.4308168\n",
      " 4.44265126 4.4543473  4.46590812 4.47733681 4.48863637 4.49980967\n",
      " 4.51085951 4.52178858 4.53259949 4.54329478 4.55387689 4.56434819\n",
      " 4.57471098 4.58496748 4.59511985]\n"
     ]
    }
   ],
   "source": [
    "#Natural Log, or Log at Base e\n",
    "#Use the log() function to perform log at the base e.\n",
    "arr=np.arange(1,100)\n",
    "print(np.log(arr))"
   ]
  },
  {
   "cell_type": "code",
   "execution_count": 35,
   "id": "5725a6e0",
   "metadata": {},
   "outputs": [
    {
     "name": "stdout",
     "output_type": "stream",
     "text": [
      "1.7005483074552052\n"
     ]
    }
   ],
   "source": [
    "#Log at Any Base\n",
    "#NumPy does not provide any function to take log at any base, so we can use the frompyfunc() function along with inbuilt \n",
    "#function math.log() with two input parameters and one output parameter:\n",
    "from math import log\n",
    "nlog=np.frompyfunc(log,2,1)\n",
    "print(nlog(100,15))"
   ]
  },
  {
   "cell_type": "code",
   "execution_count": null,
   "id": "13a633df",
   "metadata": {},
   "outputs": [],
   "source": [
    "#Summations\n",
    "#What is the difference between summation and addition?\n",
    "\n",
    "#Addition is done between two arguments whereas summation happens over n elements."
   ]
  },
  {
   "cell_type": "code",
   "execution_count": 36,
   "id": "8fc064f6",
   "metadata": {},
   "outputs": [],
   "source": [
    "arr1=np.array([1,2,3,4])\n",
    "arr2=np.array([5,6,7,8])"
   ]
  },
  {
   "cell_type": "code",
   "execution_count": 37,
   "id": "8b88907a",
   "metadata": {},
   "outputs": [
    {
     "name": "stdout",
     "output_type": "stream",
     "text": [
      "[6 8 10 12]\n"
     ]
    }
   ],
   "source": [
    "##addition\n",
    "print(add(arr1,arr2))"
   ]
  },
  {
   "cell_type": "code",
   "execution_count": 44,
   "id": "a8948cb5",
   "metadata": {},
   "outputs": [
    {
     "name": "stdout",
     "output_type": "stream",
     "text": [
      "[15 16 17 18]\n"
     ]
    }
   ],
   "source": [
    "##summation\n",
    "print(sum(arr1,arr2))"
   ]
  },
  {
   "cell_type": "code",
   "execution_count": 47,
   "id": "8f6ed128",
   "metadata": {},
   "outputs": [
    {
     "name": "stdout",
     "output_type": "stream",
     "text": [
      "[10 26]\n"
     ]
    }
   ],
   "source": [
    "new_arr=np.sum([arr1,arr2],axis=1)\n",
    "print(new_arr)#--->axis=1 horizontal  --->axis=0-->vertical"
   ]
  },
  {
   "cell_type": "code",
   "execution_count": null,
   "id": "52d53afa",
   "metadata": {},
   "outputs": [],
   "source": [
    "#Cummulative Sum\n",
    "#Cummulative sum means partially adding the elements in array.\n",
    "\n",
    "#E.g. The partial sum of [1, 2, 3, 4] would be [1, 1+2, 1+2+3, 1+2+3+4] = [1, 3, 6, 10].\n",
    "\n",
    "#Perfom partial sum with the cumsum() function."
   ]
  },
  {
   "cell_type": "code",
   "execution_count": 42,
   "id": "aa9710aa",
   "metadata": {},
   "outputs": [
    {
     "name": "stdout",
     "output_type": "stream",
     "text": [
      "[6 14 24 36]\n"
     ]
    }
   ],
   "source": [
    "##cummalative sum----------->takes only one argument\n",
    "print(np.cumsum(add(arr1,arr2)))"
   ]
  },
  {
   "cell_type": "markdown",
   "id": "edab8dc4",
   "metadata": {},
   "source": [
    "# ufunc Product"
   ]
  },
  {
   "cell_type": "code",
   "execution_count": 56,
   "id": "07faff5b",
   "metadata": {},
   "outputs": [
    {
     "name": "stdout",
     "output_type": "stream",
     "text": [
      "40320\n"
     ]
    }
   ],
   "source": [
    " # prod() method\n",
    "arr1=np.array([1,2,3,4])\n",
    "arr2=np.array([5,6,7,8])\n",
    "new_arr=np.prod(([arr1,arr2]))\n",
    "print(new_arr)"
   ]
  },
  {
   "cell_type": "code",
   "execution_count": 57,
   "id": "917c85e6",
   "metadata": {},
   "outputs": [
    {
     "name": "stdout",
     "output_type": "stream",
     "text": [
      "[  24 1680]\n"
     ]
    }
   ],
   "source": [
    " # prod() method over axis=1\n",
    "arr1=np.array([1,2,3,4])\n",
    "arr2=np.array([5,6,7,8])\n",
    "new_arr=np.prod(([arr1,arr2]),axis=1)\n",
    "print(new_arr)"
   ]
  },
  {
   "cell_type": "code",
   "execution_count": 59,
   "id": "104fd92f",
   "metadata": {},
   "outputs": [
    {
     "name": "stdout",
     "output_type": "stream",
     "text": [
      "[ 5 12 21 32]\n"
     ]
    }
   ],
   "source": [
    " # prod() method over axis=0\n",
    "arr1=np.array([1,2,3,4])\n",
    "arr2=np.array([5,6,7,8])\n",
    "new_arr=np.prod(([arr1,arr2]),axis=0)\n",
    "print(new_arr)"
   ]
  },
  {
   "cell_type": "code",
   "execution_count": 61,
   "id": "d5593fd7",
   "metadata": {},
   "outputs": [
    {
     "name": "stdout",
     "output_type": "stream",
     "text": [
      "[ 1  2  6 24]\n"
     ]
    }
   ],
   "source": [
    "#Cummulative Product\n",
    "#Cummulative product means taking the product partially.\n",
    "\n",
    "#E.g. The partial product of [1, 2, 3, 4] is [1, 1*2, 1*2*3, 1*2*3*4] = [1, 2, 6, 24]\n",
    "\n",
    "#Perfom partial sum with the cumprod() function.\n",
    "\n",
    "arr=np.array([1,2,3,4])\n",
    "print(np.cumprod(arr))"
   ]
  },
  {
   "cell_type": "markdown",
   "id": "8269a31a",
   "metadata": {},
   "source": [
    "# ufunc Differences"
   ]
  },
  {
   "cell_type": "code",
   "execution_count": 71,
   "id": "4d098407",
   "metadata": {},
   "outputs": [
    {
     "name": "stdout",
     "output_type": "stream",
     "text": [
      "[1 1 1 1 1]\n"
     ]
    }
   ],
   "source": [
    "#Differences\n",
    "#A discrete difference means subtracting two successive elements.\n",
    "\n",
    "#E.g. for [1, 2, 3, 4], the discrete difference would be [2-1, 3-2, 4-3] = [1, 1, 1]\n",
    "\n",
    "#To find the discrete difference, use the diff() function.\n",
    "\n",
    "arr=np.array([1,2,3,4,5,6])\n",
    "new_arr=np.diff((arr))\n",
    "print(new_arr)"
   ]
  },
  {
   "cell_type": "code",
   "execution_count": 72,
   "id": "66491e27",
   "metadata": {},
   "outputs": [
    {
     "name": "stdout",
     "output_type": "stream",
     "text": [
      "[1 2 3 4 5 6]\n"
     ]
    }
   ],
   "source": [
    "#We can perform this operation repeatedly by giving parameter n.\n",
    "new_arr=np.diff((arr),n=0)\n",
    "print(new_arr)"
   ]
  },
  {
   "cell_type": "markdown",
   "id": "e180d1e0",
   "metadata": {},
   "source": [
    "# ufunc LCM "
   ]
  },
  {
   "cell_type": "code",
   "execution_count": 73,
   "id": "f597d21f",
   "metadata": {},
   "outputs": [
    {
     "name": "stdout",
     "output_type": "stream",
     "text": [
      "12\n"
     ]
    }
   ],
   "source": [
    "num1=4\n",
    "num2=6\n",
    "x=np.lcm(num1,num2)\n",
    "print(x)"
   ]
  },
  {
   "cell_type": "code",
   "execution_count": 75,
   "id": "66f299bb",
   "metadata": {},
   "outputs": [],
   "source": [
    "#The above is used to calculate lcm only for two numbers only.\n",
    "#so to calculate LCM of an array we need to use lcm.reduce() function"
   ]
  },
  {
   "cell_type": "code",
   "execution_count": 77,
   "id": "229cae65",
   "metadata": {},
   "outputs": [
    {
     "name": "stdout",
     "output_type": "stream",
     "text": [
      "-1526361136\n"
     ]
    }
   ],
   "source": [
    "arr=np.array([1,2,3,4,5,6,7,8,9,10,11,12,13,14,15,16,17,18,19,20,21,22,23,24,25,26,27,28,29,30])\n",
    "print(np.lcm.reduce(arr))"
   ]
  },
  {
   "cell_type": "markdown",
   "id": "c361b5e3",
   "metadata": {},
   "source": [
    "# ufunc GCD Greatest Common Denominator"
   ]
  },
  {
   "cell_type": "code",
   "execution_count": 78,
   "id": "4a6f8d61",
   "metadata": {},
   "outputs": [
    {
     "name": "stdout",
     "output_type": "stream",
     "text": [
      "3\n"
     ]
    }
   ],
   "source": [
    "num1 = 6\n",
    "num2 = 9\n",
    "\n",
    "x = np.gcd(num1, num2)\n",
    "\n",
    "print(x)"
   ]
  },
  {
   "cell_type": "code",
   "execution_count": 79,
   "id": "eea1ccd0",
   "metadata": {},
   "outputs": [],
   "source": [
    "#The above is used to calculate hcf only for two numbers only.\n",
    "#so to calculate hcf of an array we need to use lcm.reduce() function"
   ]
  },
  {
   "cell_type": "code",
   "execution_count": 80,
   "id": "883ec02f",
   "metadata": {},
   "outputs": [
    {
     "name": "stdout",
     "output_type": "stream",
     "text": [
      "1\n"
     ]
    }
   ],
   "source": [
    "arr = np.array([1,2,3,4,5])\n",
    "\n",
    "x = np.gcd.reduce(arr)\n",
    "\n",
    "print(x)"
   ]
  },
  {
   "cell_type": "markdown",
   "id": "f176bf40",
   "metadata": {},
   "source": [
    "# ufunc Trignometric Functions"
   ]
  },
  {
   "cell_type": "code",
   "execution_count": null,
   "id": "d0874225",
   "metadata": {},
   "outputs": [],
   "source": [
    "# Numpy Provides the ufuncs=---->sin(),cos(),tan(),\n",
    "\n",
    "#To find degree to radians\n",
    "#deg2rad(),rad2deg(),\n",
    "\n",
    "#To find angles\n",
    "\n",
    "#arcsin(),arccos(),arctan(),\n",
    "\n",
    "#To find hypotenuse\n",
    "#hypot()"
   ]
  },
  {
   "cell_type": "code",
   "execution_count": null,
   "id": "2e3632d8",
   "metadata": {},
   "outputs": [],
   "source": [
    "#Hyperbolic Functions\n",
    "\n",
    "#sinh(),cosh(),tanh()\n",
    "\n",
    "#to find angles\n",
    "#arcsinh(),arccosh(),arctanh()"
   ]
  },
  {
   "cell_type": "markdown",
   "id": "26058612",
   "metadata": {},
   "source": [
    "# ufunc set Operations"
   ]
  },
  {
   "cell_type": "code",
   "execution_count": null,
   "id": "201ee5ce",
   "metadata": {},
   "outputs": [],
   "source": [
    "#A set in mathematics is a collection of unique elements.\n",
    "\n",
    "#Sets are used for operations involving frequent intersection, union and difference operations.\n"
   ]
  },
  {
   "cell_type": "code",
   "execution_count": null,
   "id": "e88c1461",
   "metadata": {},
   "outputs": [],
   "source": [
    "#Create Sets in NumPy\n",
    "#We can use NumPys unique() method to find unique elements from any array. s."
   ]
  },
  {
   "cell_type": "code",
   "execution_count": null,
   "id": "744bda03",
   "metadata": {},
   "outputs": [],
   "source": [
    "#unique() method"
   ]
  },
  {
   "cell_type": "code",
   "execution_count": 81,
   "id": "d2f8a04b",
   "metadata": {},
   "outputs": [
    {
     "name": "stdout",
     "output_type": "stream",
     "text": [
      "[1 2 3 4 5 6 7]\n"
     ]
    }
   ],
   "source": [
    "arr = np.array([1, 1, 1, 2, 3, 4, 5, 5, 6, 7])\n",
    "\n",
    "x = np.unique(arr)\n",
    "\n",
    "print(x)"
   ]
  },
  {
   "cell_type": "code",
   "execution_count": null,
   "id": "0fd27db7",
   "metadata": {},
   "outputs": [],
   "source": [
    "#Finding Union\n",
    "#To find the unique values of two arrays, use the union1d() method."
   ]
  },
  {
   "cell_type": "code",
   "execution_count": 82,
   "id": "7e0a3794",
   "metadata": {},
   "outputs": [
    {
     "name": "stdout",
     "output_type": "stream",
     "text": [
      "[1 2 3 4 5 6]\n"
     ]
    }
   ],
   "source": [
    "arr1 = np.array([1, 2, 3, 4])\n",
    "arr2 = np.array([3, 4, 5, 6])\n",
    "\n",
    "newarr = np.union1d(arr1, arr2)\n",
    "\n",
    "print(newarr)"
   ]
  },
  {
   "cell_type": "code",
   "execution_count": null,
   "id": "ea04e77e",
   "metadata": {},
   "outputs": [],
   "source": [
    "#Finding Intersection\n",
    "#To find only the values that are present in both arrays, use the intersect1d() method."
   ]
  },
  {
   "cell_type": "code",
   "execution_count": 83,
   "id": "59ec6258",
   "metadata": {},
   "outputs": [
    {
     "name": "stdout",
     "output_type": "stream",
     "text": [
      "[3 4]\n"
     ]
    }
   ],
   "source": [
    "arr1 = np.array([1, 2, 3, 4])\n",
    "arr2 = np.array([3, 4, 5, 6])\n",
    "\n",
    "newarr = np.intersect1d(arr1, arr2, assume_unique=True)\n",
    "\n",
    "print(newarr)"
   ]
  },
  {
   "cell_type": "code",
   "execution_count": null,
   "id": "7829f3cb",
   "metadata": {},
   "outputs": [],
   "source": [
    "#assume_unique\n",
    "#intersect1d() method takes an optional argument assume_unique, which if set to True can speed up computation.\n",
    "#It should always be set to True when dealing with sets."
   ]
  },
  {
   "cell_type": "code",
   "execution_count": null,
   "id": "d554aeac",
   "metadata": {},
   "outputs": [],
   "source": [
    "#Finding Difference\n",
    "#To find only the values in the first set that is NOT present in the seconds set, use the setdiff1d() method."
   ]
  },
  {
   "cell_type": "code",
   "execution_count": 84,
   "id": "b7a22423",
   "metadata": {},
   "outputs": [
    {
     "name": "stdout",
     "output_type": "stream",
     "text": [
      "[1 2]\n"
     ]
    }
   ],
   "source": [
    "set1 = np.array([1, 2, 3, 4])\n",
    "set2 = np.array([3, 4, 5, 6])\n",
    "\n",
    "newarr = np.setdiff1d(set1, set2, assume_unique=True)\n",
    "\n",
    "print(newarr)"
   ]
  },
  {
   "cell_type": "code",
   "execution_count": null,
   "id": "e62ca611",
   "metadata": {},
   "outputs": [],
   "source": [
    "#the setdiff1d() method takes an optional argument assume_unique, which if set to True can speed up computation.\n",
    "#It should always be set to True when dealing with sets."
   ]
  },
  {
   "cell_type": "code",
   "execution_count": null,
   "id": "5b95246e",
   "metadata": {},
   "outputs": [],
   "source": [
    "#Finding Symmetric Difference\n",
    "#To find only the values that are NOT present in BOTH sets, use the setxor1d() method."
   ]
  },
  {
   "cell_type": "code",
   "execution_count": 85,
   "id": "ec0348c0",
   "metadata": {},
   "outputs": [
    {
     "name": "stdout",
     "output_type": "stream",
     "text": [
      "[1 2 5 6]\n"
     ]
    }
   ],
   "source": [
    "set1 = np.array([1, 2, 3, 4])\n",
    "set2 = np.array([3, 4, 5, 6])\n",
    "\n",
    "newarr = np.setxor1d(set1, set2, assume_unique=True)\n",
    "\n",
    "print(newarr)"
   ]
  },
  {
   "cell_type": "code",
   "execution_count": null,
   "id": "7c794bcc",
   "metadata": {},
   "outputs": [],
   "source": [
    "#the setxor1d() method takes an optional argument assume_unique, which if set to True can speed up computation. \n",
    "#It should always be set to True when dealing with sets."
   ]
  }
 ],
 "metadata": {
  "kernelspec": {
   "display_name": "Python 3 (ipykernel)",
   "language": "python",
   "name": "python3"
  },
  "language_info": {
   "codemirror_mode": {
    "name": "ipython",
    "version": 3
   },
   "file_extension": ".py",
   "mimetype": "text/x-python",
   "name": "python",
   "nbconvert_exporter": "python",
   "pygments_lexer": "ipython3",
   "version": "3.11.5"
  }
 },
 "nbformat": 4,
 "nbformat_minor": 5
}
