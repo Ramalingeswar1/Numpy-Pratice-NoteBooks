{
 "cells": [
  {
   "cell_type": "markdown",
   "id": "91310fff",
   "metadata": {},
   "source": [
    "# NumPy Array Creation"
   ]
  },
  {
   "cell_type": "code",
   "execution_count": 2,
   "id": "f9ddc8d1",
   "metadata": {},
   "outputs": [],
   "source": [
    "#importing numpy library with alias name\n",
    "import numpy as np"
   ]
  },
  {
   "cell_type": "code",
   "execution_count": 3,
   "id": "fe5a9dee",
   "metadata": {},
   "outputs": [
    {
     "name": "stdout",
     "output_type": "stream",
     "text": [
      "[1 2 3 4] [1 2 3 4]\n"
     ]
    }
   ],
   "source": [
    "#Numpy creation(ndarray object)\n",
    "arr1=np.array([1,2,3,4])#creation of array by passing list of integers as a argument to array object.\n",
    "\n",
    "arr2=np.array((1,2,3,4))#creation of array by passing tuple of integers as a argument to array object.\n",
    "\n",
    "print(arr1,arr2)"
   ]
  },
  {
   "cell_type": "code",
   "execution_count": 6,
   "id": "54efbd74",
   "metadata": {},
   "outputs": [
    {
     "name": "stdout",
     "output_type": "stream",
     "text": [
      "1 2 3 4 "
     ]
    }
   ],
   "source": [
    "for i in arr1:\n",
    "    print(i,end=\" \")"
   ]
  },
  {
   "cell_type": "code",
   "execution_count": 12,
   "id": "756b3343",
   "metadata": {},
   "outputs": [
    {
     "name": "stdout",
     "output_type": "stream",
     "text": [
      "0 ------> 1\n",
      "1 ------> 2\n",
      "2 ------> 3\n",
      "3 ------> 4\n"
     ]
    }
   ],
   "source": [
    "for i in range(len(arr1)):\n",
    "    print(i,\"------>\",arr1[i])"
   ]
  },
  {
   "cell_type": "code",
   "execution_count": 15,
   "id": "6403f5e2",
   "metadata": {},
   "outputs": [
    {
     "name": "stdout",
     "output_type": "stream",
     "text": [
      "1 2 3 4 "
     ]
    }
   ],
   "source": [
    "for i in np.nditer(arr1):#nditer is an object provided by numpy to iterate over an array.\n",
    "    print(i,end=\" \")"
   ]
  },
  {
   "cell_type": "code",
   "execution_count": 17,
   "id": "84777d3f",
   "metadata": {},
   "outputs": [
    {
     "name": "stdout",
     "output_type": "stream",
     "text": [
      "(0,) ---> 1\n",
      "(1,) ---> 2\n",
      "(2,) ---> 3\n",
      "(3,) ---> 4\n"
     ]
    }
   ],
   "source": [
    "for ind,i in np.ndenumerate(arr1):#ndenumerate is an object provided by numpy to iterate over an array(the array is unpacked providing index separately).\n",
    "    print(ind,\"--->\",i)"
   ]
  },
  {
   "cell_type": "code",
   "execution_count": null,
   "id": "480eddb9",
   "metadata": {},
   "outputs": [],
   "source": [
    "#the element is of an array is originally unknown, but its size is known. Hence, NumPy offers several functions to create arrays\n",
    "#with initial placeholder content. These minimize the necessity of growing arrays, an expensive operation. For example: np.zeros,\n",
    "#np.ones, np.full, np.empty, etc."
   ]
  },
  {
   "cell_type": "code",
   "execution_count": 18,
   "id": "fe4845d1",
   "metadata": {},
   "outputs": [
    {
     "name": "stdout",
     "output_type": "stream",
     "text": [
      "[[0. 0. 0.]\n",
      " [0. 0. 0.]\n",
      " [0. 0. 0.]]\n"
     ]
    }
   ],
   "source": [
    "arr3=np.zeros((3,3))\n",
    "print(arr3)"
   ]
  },
  {
   "cell_type": "code",
   "execution_count": 19,
   "id": "e80a0c23",
   "metadata": {},
   "outputs": [
    {
     "name": "stdout",
     "output_type": "stream",
     "text": [
      "[[1. 1. 1.]\n",
      " [1. 1. 1.]\n",
      " [1. 1. 1.]]\n"
     ]
    }
   ],
   "source": [
    "arr4=np.ones((3,3))\n",
    "print(arr4)"
   ]
  },
  {
   "cell_type": "code",
   "execution_count": 20,
   "id": "faa002c1",
   "metadata": {},
   "outputs": [
    {
     "name": "stdout",
     "output_type": "stream",
     "text": [
      "[[5 5 5]\n",
      " [5 5 5]\n",
      " [5 5 5]]\n"
     ]
    }
   ],
   "source": [
    "arr5=np.full((3,3),5)\n",
    "print(arr5)"
   ]
  },
  {
   "cell_type": "code",
   "execution_count": 10,
   "id": "6e6a47b7",
   "metadata": {},
   "outputs": [
    {
     "name": "stdout",
     "output_type": "stream",
     "text": [
      "[[6029358 6619204 6881398]\n",
      " [6619235 4718684 7471201]\n",
      " [6553700 7536745 5636203]\n",
      " [7077999 7143541 3604581]]\n"
     ]
    }
   ],
   "source": [
    "#This function create a new array of given shape and type, without initializing value.\n",
    "import numpy as np\n",
    "arr=np.empty((4,3),dtype=np.int32,order='C')\n",
    "print(arr)"
   ]
  },
  {
   "cell_type": "code",
   "execution_count": 22,
   "id": "bebd5d1a",
   "metadata": {},
   "outputs": [
    {
     "name": "stdout",
     "output_type": "stream",
     "text": [
      "[[0.56888076 0.48939362 0.36347654]\n",
      " [0.30432491 0.24978393 0.9780741 ]\n",
      " [0.90992303 0.57680094 0.59632401]]\n"
     ]
    }
   ],
   "source": [
    "#to create an array of random values\n",
    "arr6=np.random.random((3,3))\n",
    "print(arr6)\n",
    "#this will create random values of floating point numbers between 0 and 1 of shape 3*3"
   ]
  },
  {
   "cell_type": "code",
   "execution_count": 28,
   "id": "68e0d38e",
   "metadata": {},
   "outputs": [
    {
     "name": "stdout",
     "output_type": "stream",
     "text": [
      "[[8 8 9]\n",
      " [7 2 3]\n",
      " [8 6 2]]\n"
     ]
    }
   ],
   "source": [
    "#to create an random values of integer type\n",
    "arr7=np.random.randint(0,10,(3,3),dtype='int32')\n",
    "print(arr7)\n",
    "##this will create random values of integer numbers between 0 and 10 of shape 3*3"
   ]
  },
  {
   "cell_type": "code",
   "execution_count": 32,
   "id": "f8d11da3",
   "metadata": {},
   "outputs": [
    {
     "name": "stdout",
     "output_type": "stream",
     "text": [
      "[1 2 3 4 5 6 7 8 9]\n"
     ]
    }
   ],
   "source": [
    "#np.arange is used to create evenly spaced numbered arrays of specified size with in a given interval\n",
    "#The function signature is np.arange(start, stop, step)\n",
    "arr8=np.arange(1,10,1)\n",
    "print(arr8)"
   ]
  },
  {
   "cell_type": "code",
   "execution_count": 34,
   "id": "3805c19f",
   "metadata": {},
   "outputs": [
    {
     "name": "stdout",
     "output_type": "stream",
     "text": [
      "[[1 2 3]\n",
      " [4 5 6]\n",
      " [7 8 9]]\n"
     ]
    }
   ],
   "source": [
    "#to reshape the above array to any size,the created array can be reshaped using reshape method\n",
    "arr9=arr8.reshape(3,3)\n",
    "print(arr9)"
   ]
  },
  {
   "cell_type": "code",
   "execution_count": 45,
   "id": "ef76a322",
   "metadata": {},
   "outputs": [
    {
     "name": "stdout",
     "output_type": "stream",
     "text": [
      "[ 1  1  1  1  1  2  2  2  2  3  3  3  3  4  4  4  4  4  5  5  5  5  6  6\n",
      "  6  6  7  7  7  7  7  8  8  8  8  9  9  9  9 10]\n"
     ]
    }
   ],
   "source": [
    "#linspace:it returns evenly spaced integers with in a given interval of specified number of points\n",
    "arr10=np.linspace(1,10,40,dtype='int32')\n",
    "print(arr10)"
   ]
  },
  {
   "cell_type": "code",
   "execution_count": null,
   "id": "2556ed3f",
   "metadata": {},
   "outputs": [],
   "source": [
    "\"\"\"np.arange(start, stop, step): Generates values from start to stop (exclusive) with a constant step size step.\n",
    "\n",
    "np.linspace(start, stop, num): Generates num evenly spaced values from start to stop (inclusive).\n",
    "\n",
    "In essence, np.arange is more suitable when you want to specify the step size explicitly, while np.linspace is more convenient\n",
    "\n",
    "when you want to specify the number of points within the range.\"\"\""
   ]
  },
  {
   "cell_type": "code",
   "execution_count": 48,
   "id": "f011b877",
   "metadata": {},
   "outputs": [
    {
     "name": "stdout",
     "output_type": "stream",
     "text": [
      "[1 2 3 4 5 6 7 8 9]\n"
     ]
    }
   ],
   "source": [
    "#flattening a multidimensional to a 1-dimensional array can be done by using flatten() method.\n",
    "arr11=np.array([[1,2,3],\n",
    "               [4,5,6],\n",
    "               [7,8,9]])\n",
    "flattened_arr=arr11.flatten()\n",
    "print(flattened_arr)\n",
    "#flatten() creates a new copy of the array, so any modifications to the flattened array won't affect the original."
   ]
  },
  {
   "cell_type": "code",
   "execution_count": 51,
   "id": "31ab3803",
   "metadata": {},
   "outputs": [
    {
     "name": "stdout",
     "output_type": "stream",
     "text": [
      "[1 2 3 4 5 6 7 8 9]\n"
     ]
    }
   ],
   "source": [
    "#flattening a multidimensional to a 1-dimensional array can be done by using ravel() method.\n",
    "arr12 = np.array([[1, 2, 3],\n",
    "                  [4, 5, 6],\n",
    "                  [7, 8, 9]])\n",
    "raveled_arr = arr12.ravel()\n",
    "print(raveled_arr)\n",
    "#ravel() returns a flattened view of the array. It doesn't create a new copy, so modifications to the flattened array will also\n",
    "#affect the original array."
   ]
  },
  {
   "cell_type": "markdown",
   "id": "85dc50fe",
   "metadata": {},
   "source": [
    "# NumPy Array Indexing"
   ]
  },
  {
   "cell_type": "code",
   "execution_count": null,
   "id": "fd3eaba8",
   "metadata": {},
   "outputs": [],
   "source": [
    "#NumPy array indexing is important for analyzing and manipulating the array object.\n",
    "#Slicing: Just like lists in Python, NumPy arrays can be sliced. As arrays can be multidimensional, we need to specify a slice \n",
    "        #for each dimension of the array.\n",
    "#Integer array indexing: In this method, lists are passed for indexing for each dimension. One-to-one mapping of corresponding \n",
    "                        #elements is done to construct a new arbitrary array.\n",
    "#Boolean array indexing: This method is used when we want to pick elements from the array which satisfy some condition."
   ]
  },
  {
   "cell_type": "code",
   "execution_count": null,
   "id": "368034b9",
   "metadata": {},
   "outputs": [],
   "source": [
    "#hyper layers\n",
    "#layers\n",
    "#start\n",
    "#end\n",
    "#arr[start:end:step]"
   ]
  },
  {
   "cell_type": "code",
   "execution_count": 54,
   "id": "b2ffb6f7",
   "metadata": {},
   "outputs": [
    {
     "name": "stdout",
     "output_type": "stream",
     "text": [
      "[1 2 3 4]\n"
     ]
    }
   ],
   "source": [
    "arr=np.array([1,2,3,4])\n",
    "print(arr[0:4])"
   ]
  },
  {
   "cell_type": "code",
   "execution_count": 56,
   "id": "d30bd68d",
   "metadata": {},
   "outputs": [
    {
     "name": "stdout",
     "output_type": "stream",
     "text": [
      "[ 1  2  3  4  5  6  7  8  9 10]\n"
     ]
    }
   ],
   "source": [
    "#Boolean Array Indexing Eample\n",
    "arr13=np.array([1,2,3,4,5,6,7,8,9,10])\n",
    "condition=arr13>0\n",
    "temp=arr13[condition]\n",
    "print(temp)"
   ]
  },
  {
   "cell_type": "markdown",
   "id": "a1d50380",
   "metadata": {},
   "source": [
    "# NumPy Basic Operations"
   ]
  },
  {
   "cell_type": "code",
   "execution_count": 58,
   "id": "7626696f",
   "metadata": {},
   "outputs": [
    {
     "name": "stdout",
     "output_type": "stream",
     "text": [
      "[2 3 4 5]\n"
     ]
    }
   ],
   "source": [
    "#Operations on single numpy array\n",
    "\n",
    "arr14=np.array([1,2,3,4])\n",
    "arr15=arr14+1\n",
    "print(arr15)"
   ]
  },
  {
   "cell_type": "code",
   "execution_count": 59,
   "id": "d0939c74",
   "metadata": {},
   "outputs": [
    {
     "name": "stdout",
     "output_type": "stream",
     "text": [
      "[1 2 3 4]\n"
     ]
    }
   ],
   "source": [
    "arr16=arr15-1\n",
    "print(arr16)"
   ]
  },
  {
   "cell_type": "code",
   "execution_count": 60,
   "id": "48f91676",
   "metadata": {},
   "outputs": [
    {
     "name": "stdout",
     "output_type": "stream",
     "text": [
      "[1 2 3 4]\n"
     ]
    }
   ],
   "source": [
    "arr17=arr16*1\n",
    "print(arr17)"
   ]
  },
  {
   "cell_type": "code",
   "execution_count": 64,
   "id": "090ccdcc",
   "metadata": {},
   "outputs": [
    {
     "name": "stdout",
     "output_type": "stream",
     "text": [
      "[  1  16  81 256]\n"
     ]
    }
   ],
   "source": [
    "print(arr17**4)"
   ]
  },
  {
   "cell_type": "code",
   "execution_count": 66,
   "id": "a2f27095",
   "metadata": {},
   "outputs": [],
   "source": [
    "arr1=np.array([[1,2,3,4],[5,6,7,8]])\n",
    "arr2=np.array([[9,10,11,12],[13,14,15,16]])"
   ]
  },
  {
   "cell_type": "code",
   "execution_count": 68,
   "id": "6f924afd",
   "metadata": {},
   "outputs": [
    {
     "name": "stdout",
     "output_type": "stream",
     "text": [
      "[[10 12 14 16]\n",
      " [18 20 22 24]]\n"
     ]
    }
   ],
   "source": [
    "arr3=arr1+arr2\n",
    "print(arr3)"
   ]
  },
  {
   "cell_type": "code",
   "execution_count": 70,
   "id": "15683d07",
   "metadata": {},
   "outputs": [
    {
     "name": "stdout",
     "output_type": "stream",
     "text": [
      "[[8 8 8 8]\n",
      " [8 8 8 8]]\n"
     ]
    }
   ],
   "source": [
    "arr4=arr2-arr1\n",
    "print(arr4)"
   ]
  },
  {
   "cell_type": "code",
   "execution_count": 71,
   "id": "d35f288a",
   "metadata": {},
   "outputs": [
    {
     "name": "stdout",
     "output_type": "stream",
     "text": [
      "[[9.         5.         3.66666667 3.        ]\n",
      " [2.6        2.33333333 2.14285714 2.        ]]\n"
     ]
    }
   ],
   "source": [
    "arr5=arr2/arr1\n",
    "print(arr5)"
   ]
  },
  {
   "cell_type": "code",
   "execution_count": 72,
   "id": "f3683350",
   "metadata": {},
   "outputs": [
    {
     "name": "stdout",
     "output_type": "stream",
     "text": [
      "[[        9       100      1331     20736]\n",
      " [   371293   7529536 170859375         0]]\n"
     ]
    }
   ],
   "source": [
    "arr6=arr2**arr1\n",
    "print(arr6)"
   ]
  },
  {
   "cell_type": "code",
   "execution_count": 73,
   "id": "20d8173d",
   "metadata": {},
   "outputs": [
    {
     "name": "stdout",
     "output_type": "stream",
     "text": [
      "[[0 0 2 0]\n",
      " [3 2 1 0]]\n"
     ]
    }
   ],
   "source": [
    "arr7=arr2%arr1\n",
    "print(arr7)"
   ]
  },
  {
   "cell_type": "code",
   "execution_count": 74,
   "id": "ce33cf6b",
   "metadata": {},
   "outputs": [
    {
     "name": "stdout",
     "output_type": "stream",
     "text": [
      "[[9 5 3 3]\n",
      " [2 2 2 2]]\n"
     ]
    }
   ],
   "source": [
    "arr8=arr2//arr1\n",
    "print(arr8)"
   ]
  },
  {
   "cell_type": "markdown",
   "id": "8ce099db",
   "metadata": {},
   "source": [
    "# NumPy Unary Operators"
   ]
  },
  {
   "cell_type": "code",
   "execution_count": 75,
   "id": "40ad109a",
   "metadata": {},
   "outputs": [
    {
     "name": "stdout",
     "output_type": "stream",
     "text": [
      "8\n"
     ]
    }
   ],
   "source": [
    "arr=np.array([1,2,3,4,5,6,7,8])\n",
    "print(arr.max())"
   ]
  },
  {
   "cell_type": "code",
   "execution_count": 76,
   "id": "88439fd7",
   "metadata": {},
   "outputs": [
    {
     "name": "stdout",
     "output_type": "stream",
     "text": [
      "1\n"
     ]
    }
   ],
   "source": [
    "print(arr.min())"
   ]
  },
  {
   "cell_type": "code",
   "execution_count": 82,
   "id": "6b0ddcc9",
   "metadata": {},
   "outputs": [
    {
     "name": "stdout",
     "output_type": "stream",
     "text": [
      "36\n"
     ]
    }
   ],
   "source": [
    "print(arr.sum())"
   ]
  },
  {
   "cell_type": "code",
   "execution_count": 80,
   "id": "03d44e35",
   "metadata": {},
   "outputs": [
    {
     "name": "stdout",
     "output_type": "stream",
     "text": [
      "[ 1  3  6 10 15 21 28 36]\n"
     ]
    }
   ],
   "source": [
    "print(arr.cumsum(axis=0))"
   ]
  },
  {
   "cell_type": "code",
   "execution_count": 81,
   "id": "cfb5152e",
   "metadata": {},
   "outputs": [
    {
     "name": "stdout",
     "output_type": "stream",
     "text": [
      "[    1     2     6    24   120   720  5040 40320]\n"
     ]
    }
   ],
   "source": [
    "print(arr.cumprod())"
   ]
  },
  {
   "cell_type": "markdown",
   "id": "9a34d74e",
   "metadata": {},
   "source": [
    "# NumPy Sorting Arrays"
   ]
  },
  {
   "cell_type": "code",
   "execution_count": 86,
   "id": "8448ddd9",
   "metadata": {},
   "outputs": [
    {
     "name": "stdout",
     "output_type": "stream",
     "text": [
      "[[1 2 4]\n",
      " [3 6 8]]\n"
     ]
    }
   ],
   "source": [
    "a=np.array([[1,4,2],[3,6,8]])\n",
    "print(np.sort(a,axis=1,kind='mergesort'))\n",
    "\n",
    "#axis=1 means sorts horizontally \n",
    "#axis=0 means sorts vertically"
   ]
  },
  {
   "cell_type": "code",
   "execution_count": 87,
   "id": "22a87b2e",
   "metadata": {},
   "outputs": [
    {
     "name": "stdout",
     "output_type": "stream",
     "text": [
      "\n",
      "Array sorted by names:\n",
      " [(b'Aakash', 2009, 9. ) (b'Ajay', 2008, 8.7) (b'Hrithik', 2009, 8.5)\n",
      " (b'Pankaj', 2008, 7.9)]\n",
      "Array sorted by graduation year and then cgpa:\n",
      " [(b'Pankaj', 2008, 7.9) (b'Ajay', 2008, 8.7) (b'Hrithik', 2009, 8.5)\n",
      " (b'Aakash', 2009, 9. )]\n"
     ]
    }
   ],
   "source": [
    "# Example to show sorting of structured array \n",
    "# set alias names for dtypes \n",
    "dtypes = [('name', 'S10'), ('grad_year', int), ('cgpa', float)] \n",
    "  \n",
    "# Values to be put in array \n",
    "values = [('Hrithik', 2009, 8.5), ('Ajay', 2008, 8.7),  \n",
    "           ('Pankaj', 2008, 7.9), ('Aakash', 2009, 9.0)] \n",
    "             \n",
    "# Creating array \n",
    "arr = np.array(values, dtype = dtypes) \n",
    "print (\"\\nArray sorted by names:\\n\", \n",
    "            np.sort(arr, order = 'name')) \n",
    "              \n",
    "print (\"Array sorted by graduation year and then cgpa:\\n\", \n",
    "                np.sort(arr, order = ['grad_year', 'cgpa'])) "
   ]
  },
  {
   "cell_type": "markdown",
   "id": "60d4272f",
   "metadata": {},
   "source": [
    "# Rank of an array is it's Depth (3*3 matrix has rank of 3, 2*2 matrix has 2 similarly for 1*1 has 1)"
   ]
  },
  {
   "cell_type": "code",
   "execution_count": 2,
   "id": "df0b0f6a",
   "metadata": {},
   "outputs": [
    {
     "name": "stdout",
     "output_type": "stream",
     "text": [
      "[1 2 3 4]\n"
     ]
    }
   ],
   "source": [
    "#list to array\n",
    "import numpy as np\n",
    "list=[1,2,3,4]\n",
    "arr=np.array(list)\n",
    "print(arr)"
   ]
  },
  {
   "cell_type": "code",
   "execution_count": 5,
   "id": "d063b35e",
   "metadata": {},
   "outputs": [
    {
     "name": "stdout",
     "output_type": "stream",
     "text": [
      "[[ 1  2  3  4]\n",
      " [ 5  6  7  8]\n",
      " [ 9 10 11 12]]\n"
     ]
    }
   ],
   "source": [
    "list1=[1,2,3,4]\n",
    "list2=[5,6,7,8]\n",
    "list3=[9,10,11,12]\n",
    "arr=np.array([list1,list2,list3])\n",
    "print(arr)"
   ]
  },
  {
   "cell_type": "markdown",
   "id": "fb0b17fa",
   "metadata": {},
   "source": [
    "# NumPy DataTypes"
   ]
  },
  {
   "cell_type": "code",
   "execution_count": 11,
   "id": "009a36ea",
   "metadata": {},
   "outputs": [],
   "source": [
    "#By default python has data types like integer,float,complex.boolean,strings"
   ]
  },
  {
   "cell_type": "markdown",
   "id": "60e05a5a",
   "metadata": {},
   "source": [
    "# Data Types in NumPy\n",
    "i-integer\n",
    "f-float\n",
    "u-unsigned integer\n",
    "c-complex float\n",
    "b-boolean\n",
    "m-timedelta\n",
    "M-datetime\n",
    "O-Object\n",
    "S-String\n",
    "U-Unicode String\n",
    "V-void"
   ]
  },
  {
   "cell_type": "code",
   "execution_count": 14,
   "id": "5b45b38d",
   "metadata": {},
   "outputs": [
    {
     "name": "stdout",
     "output_type": "stream",
     "text": [
      "[1. 2. 3. 4.]\n",
      "[1 2 3 4]\n",
      "[ True  True  True  True]\n"
     ]
    }
   ],
   "source": [
    "# astype(datatype) function\n",
    "arr=np.array([1.0,2.0,3.0,4.0])\n",
    "print(arr)\n",
    "arr1=arr.astype(int)\n",
    "print(arr1)\n",
    "arr1=arr.astype(bool)\n",
    "print(arr1)"
   ]
  },
  {
   "cell_type": "code",
   "execution_count": 15,
   "id": "a3449669",
   "metadata": {},
   "outputs": [
    {
     "name": "stdout",
     "output_type": "stream",
     "text": [
      "[1 2 3 4]\n"
     ]
    }
   ],
   "source": [
    "#copy vs view functions\n",
    "arr1=np.array([1,2,3,4])\n",
    "arr2=np.copy(arr1)\n",
    "print(arr2)\n",
    "#any changes made to arr2 will not affect arr1"
   ]
  },
  {
   "cell_type": "code",
   "execution_count": 17,
   "id": "bd153a29",
   "metadata": {},
   "outputs": [
    {
     "name": "stdout",
     "output_type": "stream",
     "text": [
      "[1 2 3 4]\n",
      "[1 2 3 9] [1 2 3 9]\n"
     ]
    }
   ],
   "source": [
    "arr3=np.array([1,2,3,4])\n",
    "arr4=arr3.view()\n",
    "print(arr4)\n",
    "#any changes made to arr2 will affect arr1\n",
    "arr4[3]=9\n",
    "print(arr3,arr4)"
   ]
  },
  {
   "cell_type": "code",
   "execution_count": 19,
   "id": "c0a24daa",
   "metadata": {},
   "outputs": [
    {
     "name": "stdout",
     "output_type": "stream",
     "text": [
      "[1 2 3 9]\n",
      "None\n"
     ]
    }
   ],
   "source": [
    "#to check whether an array own the data (copy owns the data independently whereas the view does not owns the data independently)\n",
    "#to check that we will be using the method base\n",
    "#The copy returns None.\n",
    "#The view returns the original array.\n",
    "\n",
    "print(arr4.base)\n",
    "print(arr2.base)"
   ]
  },
  {
   "cell_type": "code",
   "execution_count": 20,
   "id": "fe8994e0",
   "metadata": {},
   "outputs": [
    {
     "name": "stdout",
     "output_type": "stream",
     "text": [
      "(4,)\n"
     ]
    }
   ],
   "source": [
    "#to know the shape of the array\n",
    "print(arr.shape)"
   ]
  },
  {
   "cell_type": "code",
   "execution_count": 30,
   "id": "bae1fdfa",
   "metadata": {},
   "outputs": [
    {
     "name": "stdout",
     "output_type": "stream",
     "text": [
      "[array([1, 2, 3]), array([4, 5, 6]), array([7, 8])]\n"
     ]
    }
   ],
   "source": [
    "#to reshape the array from 1-d to 2-d and viceversa etc..\n",
    "arr=np.array([1,2,3,4,5,6,7,8])\n",
    "arr1=np.array_split(arr,3)\n",
    "print(arr1)"
   ]
  },
  {
   "cell_type": "code",
   "execution_count": 32,
   "id": "2d3a4644",
   "metadata": {},
   "outputs": [],
   "source": [
    "#vstack,hstack,dstack,vsplit,hsplit,dsplit"
   ]
  },
  {
   "cell_type": "code",
   "execution_count": 33,
   "id": "43e9dbe7",
   "metadata": {},
   "outputs": [
    {
     "name": "stdout",
     "output_type": "stream",
     "text": [
      "(array([0, 2, 4], dtype=int64),)\n"
     ]
    }
   ],
   "source": [
    "#Numpy searching arrays\n",
    "arr=np.array([1,2,3,4,5])\n",
    "arr1=np.where(arr%2==1)\n",
    "print(arr1)"
   ]
  },
  {
   "cell_type": "code",
   "execution_count": 37,
   "id": "c7bc128e",
   "metadata": {},
   "outputs": [
    {
     "name": "stdout",
     "output_type": "stream",
     "text": [
      "6\n",
      "7\n"
     ]
    }
   ],
   "source": [
    "#searchsorted returns the index of the array\n",
    "arr=np.array([1,2,3,4,5,6,7,8,9,10])\n",
    "arr_index=np.searchsorted(arr,7)#####this function by default searches from right\n",
    "print(arr_index)\n",
    "arr_index=np.searchsorted(arr,7,side='right');\n",
    "print(arr_index)\n",
    "#To search from right side use side='right'"
   ]
  },
  {
   "cell_type": "code",
   "execution_count": 39,
   "id": "195a492d",
   "metadata": {},
   "outputs": [
    {
     "name": "stdout",
     "output_type": "stream",
     "text": [
      "[0 2 3 6 9]\n"
     ]
    }
   ],
   "source": [
    "#multiple values can be searched\n",
    "arr_index=np.searchsorted(arr,[1,3,4,7,10],side='left')\n",
    "print(arr_index)"
   ]
  },
  {
   "cell_type": "code",
   "execution_count": 45,
   "id": "3104b233",
   "metadata": {},
   "outputs": [
    {
     "name": "stdout",
     "output_type": "stream",
     "text": [
      "[10  9  8  7  6  5  4  3  2  1]\n",
      "[ 1  2  3  4  5  6  7  8  9 10] [ 1  2  3  4  5  6  7  8  9 10]\n"
     ]
    }
   ],
   "source": [
    "#sorting an array\n",
    "Arr=arr[-1::-1]\n",
    "print(Arr)\n",
    "Arr=np.sort(arr)\n",
    "print(arr,Arr)"
   ]
  },
  {
   "cell_type": "code",
   "execution_count": 48,
   "id": "57300c9d",
   "metadata": {},
   "outputs": [
    {
     "name": "stdout",
     "output_type": "stream",
     "text": [
      "[1 3 5]\n"
     ]
    }
   ],
   "source": [
    "#Filtering an array is done by using boolean indexing list.\n",
    "arr=np.array([1,2,3,4,5,6])\n",
    "bool_list=[True,False,True,False,True,False]\n",
    "new_arr=arr[bool_list]\n",
    "print(new_arr)"
   ]
  },
  {
   "cell_type": "code",
   "execution_count": 50,
   "id": "eba3468f",
   "metadata": {},
   "outputs": [
    {
     "name": "stdout",
     "output_type": "stream",
     "text": [
      "[39 84 84 84 59 37 48 56 39 38]\n"
     ]
    }
   ],
   "source": [
    "#creating boolean indexing list directly from array\n",
    "arr=np.array([10,39,84,84,84,59,37,48,56,39,38])\n",
    "filter_array=arr>20\n",
    "arr_new=arr[filter_array]\n",
    "print(arr_new)"
   ]
  },
  {
   "cell_type": "code",
   "execution_count": null,
   "id": "2c0f47d6",
   "metadata": {},
   "outputs": [],
   "source": []
  }
 ],
 "metadata": {
  "kernelspec": {
   "display_name": "Python 3 (ipykernel)",
   "language": "python",
   "name": "python3"
  },
  "language_info": {
   "codemirror_mode": {
    "name": "ipython",
    "version": 3
   },
   "file_extension": ".py",
   "mimetype": "text/x-python",
   "name": "python",
   "nbconvert_exporter": "python",
   "pygments_lexer": "ipython3",
   "version": "3.11.5"
  }
 },
 "nbformat": 4,
 "nbformat_minor": 5
}
