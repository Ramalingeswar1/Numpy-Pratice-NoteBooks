{
 "cells": [
  {
   "cell_type": "markdown",
   "id": "0425662b",
   "metadata": {},
   "source": [
    "1)Numpy is a python Library.\n",
    "2)Numpy is used for working with arrays.\n",
    "3)Numpy is short for Numerical Python.\n",
    "4)It also has functions for working in domain like Linear Algebra,Fourier Transforms and matrices.\n",
    "\n",
    "*)Why Use Numpy\n",
    "\n",
    "1)In python,lists serve the purpose of arrays and they are slow to process.\n",
    "2)Numpy aims to provide array object that is 50x faster than lists.\n",
    "3)Array object in numpy is called (ndarray).\n",
    "4)ndarray provides lot of supporting functions that make easy working with ndarray."
   ]
  },
  {
   "cell_type": "markdown",
   "id": "a1fb7a07",
   "metadata": {},
   "source": [
    "*In Python, lists are stored as arrays of references to their elements, rather than storing the elements themselves directly in contiguous memory locations. This means that the elements of a list can be scattered across memory, and they don't necessarily have to be stored in contiguous memory locations.\n",
    "\n",
    "Each element of the list is a reference to the actual object stored in memory. So, even though the references themselves are stored in contiguous memory locations, the objects they point to can be located anywhere in memory.\n",
    "\n",
    "This approach provides flexibility in terms of memory allocation and management, as elements can be added or removed from the list without needing to allocate or deallocate contiguous memory blocks. However, it can also lead to slightly slower performance compared to languages where arrays are stored contiguously, especially when accessing elements randomly."
   ]
  },
  {
   "cell_type": "markdown",
   "id": "557d1cad",
   "metadata": {},
   "source": [
    "Why is NumPy Faster Than Lists?\n",
    "NumPy arrays are stored at one continuous place in memory unlike lists, so processes can access and manipulate them very efficiently.\n",
    "\n",
    "This behavior is called locality of reference in computer science.\n",
    "\n",
    "This is the main reason why NumPy is faster than lists. Also it is optimized to work with latest CPU architectures."
   ]
  },
  {
   "cell_type": "markdown",
   "id": "4acda024",
   "metadata": {},
   "source": [
    "*Numpy is partially written in python and those parts requires faster computation are written in c or c++."
   ]
  },
  {
   "cell_type": "markdown",
   "id": "aa322ea2",
   "metadata": {},
   "source": [
    "python and pip are necessary to install mumpu"
   ]
  },
  {
   "cell_type": "code",
   "execution_count": 2,
   "id": "4a308a8f",
   "metadata": {},
   "outputs": [
    {
     "name": "stdout",
     "output_type": "stream",
     "text": [
      "Requirement already satisfied: numpy in c:\\users\\dell.desktop-u6tj328\\anaconda3\\lib\\site-packages (1.24.3)\n",
      "Note: you may need to restart the kernel to use updated packages.\n"
     ]
    }
   ],
   "source": [
    "pip install numpy #command to install numpy"
   ]
  },
  {
   "cell_type": "code",
   "execution_count": 4,
   "id": "a7c7ce8f",
   "metadata": {},
   "outputs": [],
   "source": [
    "import numpy as np #command to import numpy after installing the numpy library."
   ]
  },
  {
   "cell_type": "markdown",
   "id": "cea70260",
   "metadata": {},
   "source": [
    "Here as keyword is used when we want to refer to alias name\n",
    "\n",
    "np is alias name for numpy and it can be anything."
   ]
  },
  {
   "cell_type": "code",
   "execution_count": 7,
   "id": "a926844f",
   "metadata": {},
   "outputs": [
    {
     "name": "stdout",
     "output_type": "stream",
     "text": [
      "[1 2 3 4 5]\n"
     ]
    }
   ],
   "source": [
    "arr = np.array([1,2,3,4,5])\n",
    "print(arr)"
   ]
  },
  {
   "cell_type": "markdown",
   "id": "a8c18878",
   "metadata": {},
   "source": [
    "To check version of numpy"
   ]
  },
  {
   "cell_type": "code",
   "execution_count": 8,
   "id": "ccb001b3",
   "metadata": {},
   "outputs": [
    {
     "name": "stdout",
     "output_type": "stream",
     "text": [
      "1.24.3\n"
     ]
    }
   ],
   "source": [
    "print(np.__version__)"
   ]
  },
  {
   "cell_type": "markdown",
   "id": "457f829a",
   "metadata": {},
   "source": [
    "The array object in numpy array is called as ndarray"
   ]
  },
  {
   "cell_type": "markdown",
   "id": "c8b4e2ea",
   "metadata": {},
   "source": [
    "we can create a ndarray object by using array() function"
   ]
  },
  {
   "cell_type": "code",
   "execution_count": 9,
   "id": "5c2236dc",
   "metadata": {},
   "outputs": [
    {
     "name": "stdout",
     "output_type": "stream",
     "text": [
      "<built-in function array>\n"
     ]
    }
   ],
   "source": [
    "array=np.array([1,2,3,4,5])\n",
    "print(np.array)"
   ]
  },
  {
   "cell_type": "code",
   "execution_count": 10,
   "id": "932dcbfa",
   "metadata": {},
   "outputs": [
    {
     "name": "stdout",
     "output_type": "stream",
     "text": [
      "[1 2 3 4 5]\n",
      "<class 'numpy.ndarray'>\n"
     ]
    }
   ],
   "source": [
    "print(array)\n",
    "print(type(array))"
   ]
  },
  {
   "cell_type": "markdown",
   "id": "eeaaa92c",
   "metadata": {},
   "source": [
    "To create a ndarray we can pass a list,type or any array-like object into the array() method and it will be converted into ndarray."
   ]
  },
  {
   "cell_type": "markdown",
   "id": "26355442",
   "metadata": {},
   "source": [
    "Dimensional Arrays\n",
    "-------------------\n",
    "0-Dimensional Arrays\n",
    "o-D arrays or scalars are the elements in an array.Each value in an array is 0-dimensional."
   ]
  },
  {
   "cell_type": "code",
   "execution_count": 14,
   "id": "5ba05fe2",
   "metadata": {},
   "outputs": [
    {
     "name": "stdout",
     "output_type": "stream",
     "text": [
      "42\n",
      "<class 'numpy.ndarray'>\n"
     ]
    }
   ],
   "source": [
    "arr=np.array(42)\n",
    "print(arr)\n",
    "print(type(arr))"
   ]
  },
  {
   "cell_type": "markdown",
   "id": "a46f7392",
   "metadata": {},
   "source": [
    "1-d Arrays\n",
    "    1-D arrays or uidirectional arrays has direction but no magnitude."
   ]
  },
  {
   "cell_type": "code",
   "execution_count": 12,
   "id": "21a18768",
   "metadata": {},
   "outputs": [
    {
     "name": "stdout",
     "output_type": "stream",
     "text": [
      "[1 2 3 4 5]\n"
     ]
    }
   ],
   "source": [
    "array=np.array([1,2,3,4,5])\n",
    "print(array)"
   ]
  },
  {
   "cell_type": "markdown",
   "id": "b1e0dfed",
   "metadata": {},
   "source": [
    "2-D Arrays\n",
    "An array that has 1-D arrays as its elements is called a 2-D array.\n",
    "\n",
    "These are often used to represent matrix or 2nd order tensors."
   ]
  },
  {
   "cell_type": "code",
   "execution_count": 16,
   "id": "4f1296f5",
   "metadata": {},
   "outputs": [
    {
     "name": "stdout",
     "output_type": "stream",
     "text": [
      "[[ 1  2  3  4  5]\n",
      " [ 6  7  8  9 10]]\n"
     ]
    }
   ],
   "source": [
    "arr=np.array([[1,2,3,4,5],[6,7,8,9,10]])\n",
    "print(arr)"
   ]
  },
  {
   "cell_type": "code",
   "execution_count": null,
   "id": "c0326435",
   "metadata": {},
   "outputs": [],
   "source": [
    "3-D arrays\n",
    "An array that has 2-D arrays (matrices) as its elements is called 3-D array.\n",
    "\n",
    "These are often used to represent a 3rd order tensor."
   ]
  },
  {
   "cell_type": "code",
   "execution_count": 21,
   "id": "586d55a6",
   "metadata": {},
   "outputs": [
    {
     "name": "stdout",
     "output_type": "stream",
     "text": [
      "[[[ 1  2  3  4  5]\n",
      "  [ 6  7  8  9 10]]\n",
      "\n",
      " [[11 12 13 14 15]\n",
      "  [16 17 18 19 20]]]\n"
     ]
    }
   ],
   "source": [
    "arr=np.array([[[1,2,3,4,5],[6,7,8,9,10]],[[11,12,13,14,15],[16,17,18,19,20]]])\n",
    "print(arr)"
   ]
  },
  {
   "cell_type": "markdown",
   "id": "ad3f3efc",
   "metadata": {},
   "source": [
    "To Check number of dimensions  use ndim"
   ]
  },
  {
   "cell_type": "code",
   "execution_count": 22,
   "id": "d1cd0071",
   "metadata": {},
   "outputs": [
    {
     "name": "stdout",
     "output_type": "stream",
     "text": [
      "3\n"
     ]
    }
   ],
   "source": [
    "print(arr.ndim)"
   ]
  },
  {
   "cell_type": "code",
   "execution_count": 23,
   "id": "4d05d0fc",
   "metadata": {},
   "outputs": [
    {
     "name": "stdout",
     "output_type": "stream",
     "text": [
      "[[[[[1 2 3 4]]]]]\n"
     ]
    }
   ],
   "source": [
    "arr=np.array([1,2,3,4],ndmin=5)\n",
    "print(arr)"
   ]
  },
  {
   "cell_type": "code",
   "execution_count": 24,
   "id": "62967e6a",
   "metadata": {},
   "outputs": [
    {
     "name": "stdout",
     "output_type": "stream",
     "text": [
      "[[[[1 2 3 4]]]]\n"
     ]
    }
   ],
   "source": [
    "print(arr[0])"
   ]
  },
  {
   "cell_type": "code",
   "execution_count": 28,
   "id": "bbe303bb",
   "metadata": {},
   "outputs": [
    {
     "name": "stdout",
     "output_type": "stream",
     "text": [
      "5\n"
     ]
    }
   ],
   "source": [
    "arr=np.array([[1,2,3,4,5],[6,7,8,9,5]])\n",
    "print(arr[0,4])"
   ]
  },
  {
   "cell_type": "code",
   "execution_count": 29,
   "id": "1965c4c1",
   "metadata": {},
   "outputs": [
    {
     "name": "stdout",
     "output_type": "stream",
     "text": [
      "6\n"
     ]
    }
   ],
   "source": [
    "arr=np.array([[[1,2,3],[4,5,6]],[[1,2,3],[4,5,6]]])\n",
    "print(arr[0,1,2])"
   ]
  },
  {
   "cell_type": "markdown",
   "id": "497e5233",
   "metadata": {},
   "source": [
    "Array Slicing\n",
    "-------------------\n",
    "array_name[start,end]\n",
    "or\n",
    "array_name[start,end,step]"
   ]
  },
  {
   "cell_type": "markdown",
   "id": "4b4e9b4e",
   "metadata": {},
   "source": [
    "Numpy DataTypes\n",
    "--------------------------\n",
    "strings,integer,float,boolean,complex"
   ]
  },
  {
   "cell_type": "markdown",
   "id": "a29c4101",
   "metadata": {},
   "source": [
    "Data Types in Numpy\n",
    "-------------------------------\n",
    "i- integer\n",
    "u-unsigned integer\n",
    "b-boolean\n",
    "f-float\n",
    "c-complex float\n",
    "m-timedelta\n",
    "M-datetime\n",
    "O-object\n",
    "S-string\n",
    "U-unicode string "
   ]
  },
  {
   "cell_type": "code",
   "execution_count": 30,
   "id": "dcf4c6d3",
   "metadata": {},
   "outputs": [
    {
     "name": "stdout",
     "output_type": "stream",
     "text": [
      "int32\n"
     ]
    }
   ],
   "source": [
    "arr=np.array([1,2,3,4,5])\n",
    "print(arr.dtype)"
   ]
  },
  {
   "cell_type": "code",
   "execution_count": 33,
   "id": "4c03d13e",
   "metadata": {},
   "outputs": [
    {
     "name": "stdout",
     "output_type": "stream",
     "text": [
      "<U6\n"
     ]
    }
   ],
   "source": [
    "arr1=np.array(['apple','banana','guava'])\n",
    "print(arr1.dtype)"
   ]
  },
  {
   "cell_type": "code",
   "execution_count": 38,
   "id": "a88b015d",
   "metadata": {},
   "outputs": [
    {
     "name": "stdout",
     "output_type": "stream",
     "text": [
      "['1' '2' '3' '4' '5']\n"
     ]
    }
   ],
   "source": [
    "arr1=np.array([1,2,3,4,5],dtype='U')\n",
    "print(arr1)"
   ]
  },
  {
   "cell_type": "code",
   "execution_count": 45,
   "id": "14a95066",
   "metadata": {},
   "outputs": [
    {
     "name": "stdout",
     "output_type": "stream",
     "text": [
      "[1 2 3]\n",
      "int32\n"
     ]
    }
   ],
   "source": [
    "arr=np.array([1.1,2.2,3.3])\n",
    "newarr=arr.astype(int)\n",
    "print(newarr)\n",
    "print(newarr.dtype)"
   ]
  },
  {
   "cell_type": "code",
   "execution_count": 1,
   "id": "86d62195",
   "metadata": {},
   "outputs": [],
   "source": [
    "import numpy as np"
   ]
  },
  {
   "cell_type": "raw",
   "id": "88e8e9e8",
   "metadata": {},
   "source": []
  },
  {
   "cell_type": "code",
   "execution_count": 7,
   "id": "c3a8446f",
   "metadata": {},
   "outputs": [
    {
     "name": "stdout",
     "output_type": "stream",
     "text": [
      "[1 2]\n"
     ]
    }
   ],
   "source": [
    "arr=np.array([1,2,3,4])\n",
    "print(arr[0:2:1])"
   ]
  },
  {
   "cell_type": "code",
   "execution_count": 14,
   "id": "50f622bd",
   "metadata": {},
   "outputs": [
    {
     "name": "stdout",
     "output_type": "stream",
     "text": [
      "[[[ 1  2  3  4]\n",
      "  [ 5  6  7  8]\n",
      "  [ 9 10 11 12]]\n",
      "\n",
      " [[ 1  2  3  4]\n",
      "  [ 5  6  7  8]\n",
      "  [ 9 10 11 12]]]\n"
     ]
    }
   ],
   "source": [
    "arr=np.array([[[1,2,3,4],[5,6,7,8],[9,10,11,12]],[[1,2,3,4],[5,6,7,8],[9,10,11,12]]])\n",
    "print(arr)"
   ]
  },
  {
   "cell_type": "code",
   "execution_count": 27,
   "id": "9d0ffd30",
   "metadata": {},
   "outputs": [
    {
     "name": "stdout",
     "output_type": "stream",
     "text": [
      "1\n",
      "()\n",
      "4\n",
      "1\n",
      "<memory at 0x000002218D1E5DA0>\n",
      "int32\n",
      "0\n"
     ]
    }
   ],
   "source": [
    "#zero dimnesional Array creation\n",
    "arr1=np.array(1)\n",
    "print(arr1)\n",
    "print(arr1.shape)\n",
    "print(arr1.itemsize)\n",
    "print(arr1.size)\n",
    "print(arr1.data)\n",
    "print(arr1.dtype)\n",
    "print(arr1.ndim)"
   ]
  },
  {
   "cell_type": "code",
   "execution_count": 33,
   "id": "9e2c4a29",
   "metadata": {},
   "outputs": [
    {
     "name": "stdout",
     "output_type": "stream",
     "text": [
      "[1]\n",
      "(1,)\n",
      "1\n",
      "<memory at 0x000002218D2F4640>\n",
      "8\n",
      "1\n",
      "int64\n"
     ]
    }
   ],
   "source": [
    "#1-dimensional array creation\n",
    "arr2=np.array([1],dtype='int64')\n",
    "print(arr2)\n",
    "print(arr2.shape)\n",
    "print(arr2.size)\n",
    "print(arr2.data)\n",
    "print(arr2.itemsize)\n",
    "print(arr2.ndim)\n",
    "print(arr2.dtype)"
   ]
  },
  {
   "cell_type": "code",
   "execution_count": 36,
   "id": "66837454",
   "metadata": {},
   "outputs": [
    {
     "name": "stdout",
     "output_type": "stream",
     "text": [
      "(2,)\n",
      "2\n",
      "4\n",
      "1\n",
      "int32\n",
      "<memory at 0x000002218D2F4640>\n"
     ]
    }
   ],
   "source": [
    "#1-dimensional array creation\n",
    "arr3=np.array([1,2])\n",
    "print(arr3.shape)#outputs:(2,)\n",
    "print(arr3.size)#2\n",
    "print(arr3.itemsize)#4 for int32\n",
    "print(arr3.ndim)#1\n",
    "print(arr3.dtype)#int\n",
    "print(arr3.data)"
   ]
  },
  {
   "cell_type": "code",
   "execution_count": 43,
   "id": "736c4395",
   "metadata": {},
   "outputs": [
    {
     "name": "stdout",
     "output_type": "stream",
     "text": [
      "(1, 3)\n",
      "4\n",
      "int32\n",
      "2\n"
     ]
    }
   ],
   "source": [
    "#2-dimensional array creation\n",
    "arr4=np.array([[1,2,3]])\n",
    "print(arr4.shape)\n",
    "print(arr4.itemsize)\n",
    "print(arr4.dtype)\n",
    "print(arr4.ndim)"
   ]
  },
  {
   "cell_type": "code",
   "execution_count": 60,
   "id": "9d499b3a",
   "metadata": {},
   "outputs": [
    {
     "name": "stdout",
     "output_type": "stream",
     "text": [
      "[[1 2 3]\n",
      " [4 5 6]\n",
      " [7 8 9]]\n",
      "(3, 3)\n",
      "4\n",
      "int32\n",
      "2\n"
     ]
    }
   ],
   "source": [
    "#2-dimensional array creation\n",
    "arr4=np.array([[1,2,3],\n",
    "               [4,5,6],\n",
    "               [7,8,9]])\n",
    "print(arr4)\n",
    "print(arr4.shape)\n",
    "print(arr4.itemsize)\n",
    "print(arr4.dtype)\n",
    "print(arr4.ndim)"
   ]
  },
  {
   "cell_type": "code",
   "execution_count": 61,
   "id": "aa6826b4",
   "metadata": {},
   "outputs": [
    {
     "name": "stdout",
     "output_type": "stream",
     "text": [
      "[[[ 1  2  3]\n",
      "  [ 4  5  6]]\n",
      "\n",
      " [[ 7  8  9]\n",
      "  [10 11 12]]\n",
      "\n",
      " [[13 14 15]\n",
      "  [16 17 18]]]\n",
      "(3, 2, 3)\n",
      "3\n",
      "18\n",
      "4\n",
      "int32\n",
      "<memory at 0x000002218D31B4C0>\n"
     ]
    }
   ],
   "source": [
    "#3-dimensional array\n",
    "arr6=np.array([\n",
    "    [[1,2,3],[4,5,6]],\n",
    "    [[7,8,9],[10,11,12]],\n",
    "    [[13,14,15],[16,17,18]]\n",
    "])\n",
    "print(arr6)\n",
    "print(arr6.shape)\n",
    "print(arr6.ndim)\n",
    "print(arr6.size)\n",
    "print(arr6.itemsize)\n",
    "print(arr6.dtype)\n",
    "print(arr6.data)"
   ]
  },
  {
   "cell_type": "code",
   "execution_count": 64,
   "id": "2603b211",
   "metadata": {},
   "outputs": [
    {
     "name": "stdout",
     "output_type": "stream",
     "text": [
      "[[[[ 1  2  3]\n",
      "   [ 4  5  6]]\n",
      "\n",
      "  [[ 7  8  9]\n",
      "   [10 11 12]]\n",
      "\n",
      "  [[13 14 15]\n",
      "   [16 17 18]]]\n",
      "\n",
      "\n",
      " [[[ 1  2  3]\n",
      "   [ 4  5  6]]\n",
      "\n",
      "  [[ 7  8  9]\n",
      "   [10 11 12]]\n",
      "\n",
      "  [[13 14 15]\n",
      "   [16 17 18]]]]\n",
      "(2, 3, 2, 3)\n"
     ]
    }
   ],
   "source": [
    "#higher dimensional array\n",
    "#3-dimensional array\n",
    "arr6=np.array([[\n",
    "    [[1,2,3],[4,5,6]],\n",
    "    [[7,8,9],[10,11,12]],\n",
    "    [[13,14,15],[16,17,18]]],\n",
    "    [\n",
    "    [[1,2,3],[4,5,6]],\n",
    "    [[7,8,9],[10,11,12]],\n",
    "    [[13,14,15],[16,17,18]]]\n",
    "])\n",
    "print(arr6)\n",
    "print(arr6.shape)"
   ]
  },
  {
   "cell_type": "code",
   "execution_count": 71,
   "id": "07e4d307",
   "metadata": {},
   "outputs": [
    {
     "name": "stdout",
     "output_type": "stream",
     "text": [
      "40\n"
     ]
    }
   ],
   "source": [
    "arr=np.array(40)\n",
    "print(arr[()])\n",
    "#this is same for both positive and negative indexing"
   ]
  },
  {
   "cell_type": "code",
   "execution_count": 72,
   "id": "0ce9f0df",
   "metadata": {},
   "outputs": [
    {
     "name": "stdout",
     "output_type": "stream",
     "text": [
      "0\n"
     ]
    }
   ],
   "source": [
    "#o-dimensional array slicing\n",
    "arr=np.array(0)\n",
    "print(arr)\n",
    "#this does not have slicing because it has 0-dimensions"
   ]
  },
  {
   "cell_type": "code",
   "execution_count": 76,
   "id": "0e26fd89",
   "metadata": {},
   "outputs": [
    {
     "name": "stdout",
     "output_type": "stream",
     "text": [
      "[1 2 3 4 5]\n",
      "[]\n"
     ]
    }
   ],
   "source": [
    "#1-dimensional array slicing\n",
    "arr=np.array([1,2,3,4,5])\n",
    "\n",
    "print(arr[0:5])#forward postive slicing\n",
    "\n",
    "print(arr[-1:-6:])#backward negative slicing\n"
   ]
  },
  {
   "cell_type": "code",
   "execution_count": 77,
   "id": "c8a0fa35",
   "metadata": {},
   "outputs": [
    {
     "name": "stdout",
     "output_type": "stream",
     "text": [
      "[1 2 3 4]\n"
     ]
    }
   ],
   "source": [
    "print(arr[-6:-1])"
   ]
  },
  {
   "cell_type": "code",
   "execution_count": 85,
   "id": "54ef3132",
   "metadata": {},
   "outputs": [
    {
     "name": "stdout",
     "output_type": "stream",
     "text": [
      "1 2 3 \n",
      "4 5 6 \n",
      "7 8 9 \n"
     ]
    }
   ],
   "source": [
    "arr_2d = np.array([[1, 2, 3],\n",
    "                   [4, 5, 6],\n",
    "                   [7, 8, 9]])\n",
    "\n",
    "# Positive indexing iteration\n",
    "for i in range(0,arr_2d.shape[0]):\n",
    "    for j in range(0,arr_2d.shape[1]):\n",
    "        print(arr_2d[i, j],end=\" \")\n",
    "    print()\n"
   ]
  },
  {
   "cell_type": "code",
   "execution_count": 87,
   "id": "856cd5a5",
   "metadata": {},
   "outputs": [
    {
     "name": "stdout",
     "output_type": "stream",
     "text": [
      "9 8 7 \n",
      "6 5 4 \n",
      "3 2 1 \n"
     ]
    }
   ],
   "source": [
    "# Negative indexing iteration\n",
    "for i in range(-1, -arr_2d.shape[0]-1, -1):\n",
    "    for j in range(-1, -arr_2d.shape[1]-1, -1):\n",
    "        print(arr_2d[i, j],end=\" \")\n",
    "    print()"
   ]
  },
  {
   "cell_type": "code",
   "execution_count": 88,
   "id": "fd83685f",
   "metadata": {},
   "outputs": [
    {
     "name": "stdout",
     "output_type": "stream",
     "text": [
      "[0 1 2 3 4]\n"
     ]
    }
   ],
   "source": [
    "arr=np.arange(0,5,1,dtype='int')\n",
    "print(arr)"
   ]
  },
  {
   "cell_type": "code",
   "execution_count": 95,
   "id": "ea1cf560",
   "metadata": {},
   "outputs": [
    {
     "name": "stdout",
     "output_type": "stream",
     "text": [
      "[[0 0 0]\n",
      " [0 0 0]\n",
      " [0 0 0]]\n"
     ]
    }
   ],
   "source": [
    "print(np.zeros((3,3),dtype=int,order='F'))"
   ]
  },
  {
   "cell_type": "code",
   "execution_count": 97,
   "id": "9046749c",
   "metadata": {},
   "outputs": [
    {
     "name": "stdout",
     "output_type": "stream",
     "text": [
      "[[1. 1. 1. 1.]\n",
      " [1. 1. 1. 1.]\n",
      " [1. 1. 1. 1.]]\n"
     ]
    }
   ],
   "source": [
    "print(np.ones((3,4)))"
   ]
  },
  {
   "cell_type": "code",
   "execution_count": 99,
   "id": "a27a980c",
   "metadata": {},
   "outputs": [
    {
     "name": "stdout",
     "output_type": "stream",
     "text": [
      "[[4 4 4]\n",
      " [4 4 4]]\n"
     ]
    }
   ],
   "source": [
    "arr=np.full((2,3),4,order='C')\n",
    "print(arr)"
   ]
  },
  {
   "cell_type": "code",
   "execution_count": 110,
   "id": "967b2df5",
   "metadata": {},
   "outputs": [
    {
     "name": "stdout",
     "output_type": "stream",
     "text": [
      "[[ 0  1  2  3]\n",
      " [ 4  5  6  7]\n",
      " [ 8  9 10 11]]\n"
     ]
    }
   ],
   "source": [
    "print(np.arange(0,12).reshape(3,-1))"
   ]
  },
  {
   "cell_type": "code",
   "execution_count": 116,
   "id": "5de1c9a6",
   "metadata": {},
   "outputs": [
    {
     "name": "stdout",
     "output_type": "stream",
     "text": [
      "Original Array:\n",
      "[[1 2 3]\n",
      " [4 5 6]]\n",
      "Repeated Array along axis 0 (rows):\n",
      "[[1 2 3]\n",
      " [1 2 3]\n",
      " [1 2 3]\n",
      " [4 5 6]\n",
      " [4 5 6]\n",
      " [4 5 6]]\n",
      "Repeated Array along axis 1 (columns):\n",
      "[[1 1 1 2 2 2 3 3 3]\n",
      " [4 4 4 5 5 5 6 6 6]]\n"
     ]
    }
   ],
   "source": [
    "import numpy as np\n",
    "\n",
    "arr = np.array([[1, 2, 3],\n",
    "                [4, 5, 6]])\n",
    "\n",
    "# Repeat values along axis 0 (rows)\n",
    "repeated_arr_axis0 = np.repeat(arr, 3, axis=0)\n",
    "\n",
    "# Repeat values along axis 1 (columns)\n",
    "repeated_arr_axis1 = np.repeat(arr, 3, axis=1)\n",
    "\n",
    "print(\"Original Array:\")\n",
    "print(arr)\n",
    "print(\"Repeated Array along axis 0 (rows):\")\n",
    "print(repeated_arr_axis0)\n",
    "print(\"Repeated Array along axis 1 (columns):\")\n",
    "print(repeated_arr_axis1)\n"
   ]
  },
  {
   "cell_type": "code",
   "execution_count": 117,
   "id": "f22f40f3",
   "metadata": {},
   "outputs": [
    {
     "name": "stdout",
     "output_type": "stream",
     "text": [
      "[[1 2]\n",
      " [3 4]\n",
      " [5 6]]\n"
     ]
    }
   ],
   "source": [
    "import numpy as np\n",
    "\n",
    "arr1 = np.array([[1, 2], [3, 4]])\n",
    "arr2 = np.array([[5, 6]])\n",
    "concatenated_arr = np.concatenate((arr1, arr2), axis=0)\n",
    "print(concatenated_arr)\n"
   ]
  },
  {
   "cell_type": "code",
   "execution_count": 120,
   "id": "4f5e3a27",
   "metadata": {},
   "outputs": [
    {
     "name": "stdout",
     "output_type": "stream",
     "text": [
      "[[1 2 3]\n",
      " [4 5 6]]\n"
     ]
    }
   ],
   "source": [
    "import numpy as np\n",
    "\n",
    "arr1 = np.array([1, 2, 3])\n",
    "arr2 = np.array([4, 5, 6])\n",
    "stacked_arr = np.vstack((arr1, arr2))\n",
    "print(stacked_arr)\n"
   ]
  },
  {
   "cell_type": "code",
   "execution_count": 121,
   "id": "85aa5aac",
   "metadata": {},
   "outputs": [
    {
     "name": "stdout",
     "output_type": "stream",
     "text": [
      "[[1 4]\n",
      " [2 5]\n",
      " [3 6]]\n"
     ]
    }
   ],
   "source": [
    "import numpy as np\n",
    "\n",
    "arr1 = np.array([[1], [2], [3]])\n",
    "arr2 = np.array([[4], [5], [6]])\n",
    "stacked_arr = np.hstack((arr1, arr2))\n",
    "print(stacked_arr)\n"
   ]
  },
  {
   "cell_type": "code",
   "execution_count": 122,
   "id": "2f281ed8",
   "metadata": {},
   "outputs": [
    {
     "name": "stdout",
     "output_type": "stream",
     "text": [
      "[1 2 3 4 5 6]\n"
     ]
    }
   ],
   "source": [
    "import numpy as np\n",
    "\n",
    "arr1 = np.array([1, 2, 3])\n",
    "arr2 = np.array([4, 5, 6])\n",
    "\n",
    "concatenated_arr = np.r_[arr1, arr2]\n",
    "print(concatenated_arr)\n"
   ]
  },
  {
   "cell_type": "code",
   "execution_count": 6,
   "id": "e5e3f8bd",
   "metadata": {},
   "outputs": [
    {
     "name": "stdout",
     "output_type": "stream",
     "text": [
      "[ 1  4  9 16] [ 1  8 27 64]\n"
     ]
    }
   ],
   "source": [
    "import numpy as np\n",
    "arr=np.array([1,2,3,4])\n",
    "power=np.array([2,2,2,2])\n",
    "result=np.power(arr,power)\n",
    "res=np.power(arr,3)\n",
    "print(result,res)"
   ]
  },
  {
   "cell_type": "code",
   "execution_count": 7,
   "id": "437607fd",
   "metadata": {},
   "outputs": [
    {
     "name": "stdout",
     "output_type": "stream",
     "text": [
      "[2 3 4]\n"
     ]
    }
   ],
   "source": [
    "import numpy as np\n",
    "\n",
    "arr = np.array([1, 3, 6, 10])\n",
    "diff_result = np.diff(arr)\n",
    "\n",
    "print(diff_result)\n"
   ]
  },
  {
   "cell_type": "code",
   "execution_count": 15,
   "id": "a64db2e8",
   "metadata": {},
   "outputs": [
    {
     "name": "stdout",
     "output_type": "stream",
     "text": [
      "[4 4 3 3 2 2 1 1]\n"
     ]
    }
   ],
   "source": [
    "import numpy as np\n",
    "\n",
    "# Define arrays\n",
    "arr1 = np.array([1, 2, 3, 4])\n",
    "arr2 = np.array([4, 3, 2, 1])\n",
    "\n",
    "# Concatenate arr1 and arr2\n",
    "concatenated_arr = np.concatenate((arr1, arr2))\n",
    "\n",
    "# Sort the concatenated array along axis 0\n",
    "sorted_arr = np.sort(concatenated_arr, axis=0)\n",
    "\n",
    "# Reverse the sorted array\n",
    "reversed_arr = sorted_arr[::-1]\n",
    "\n",
    "print(reversed_arr)\n"
   ]
  },
  {
   "cell_type": "code",
   "execution_count": null,
   "id": "0f952ef2",
   "metadata": {},
   "outputs": [],
   "source": []
  }
 ],
 "metadata": {
  "kernelspec": {
   "display_name": "Python 3 (ipykernel)",
   "language": "python",
   "name": "python3"
  },
  "language_info": {
   "codemirror_mode": {
    "name": "ipython",
    "version": 3
   },
   "file_extension": ".py",
   "mimetype": "text/x-python",
   "name": "python",
   "nbconvert_exporter": "python",
   "pygments_lexer": "ipython3",
   "version": "3.11.5"
  }
 },
 "nbformat": 4,
 "nbformat_minor": 5
}
